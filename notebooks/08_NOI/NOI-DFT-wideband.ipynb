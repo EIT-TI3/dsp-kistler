{
 "cells": [
  {
   "cell_type": "markdown",
   "metadata": {},
   "source": [
    "<a href=\"_index.ipynb\">&larr; NOI </a>&loz;\n",
    "<a href=\"../../README.md\"> &uarr; TOC &uarr; </a>\n",
    "<img src='../_img/icon.svg' align='right' width='10%'></img>\n",
    "# NOI: Zufallsprozesse und Quantisierung im Frequenzbereich #\n",
    "## DFT von Breitbandsignalen ##\n",
    "\n",
    "Dieses Notebook unterstützt die gleichnamige Übungsaufgabe. Thema ist die korrekte Skalierung und Interpretation der DFT von Breitbandsignalen (z.B. Rauschen) im Vergleich mit Schmalbandsignalen (z.B. Sinustöne)."
   ]
  },
  {
   "cell_type": "code",
   "execution_count": null,
   "metadata": {},
   "outputs": [],
   "source": [
    "import numpy as np\n",
    "import numpy.random as rnd\n",
    "from numpy.fft import fft, ifft, fftshift, ifftshift, fftfreq\n",
    "\n",
    "import matplotlib.pyplot as plt\n",
    "import matplotlib.gridspec as gridspec\n",
    "figsize = {\"figsize\":(15,10)}"
   ]
  },
  {
   "cell_type": "markdown",
   "metadata": {},
   "source": [
    "### Fragen und Experimente\n",
    "\n",
    "- Interpretieren Sie das Ergebnis / die Leistungen in Zeit- und Frequenzebene\n",
    "- Welches *SQNR* erwarten Sie bei den Quantisierungsparametern im Skript?\n",
    "- Warum ergibt die Simulation einen schlechteren Wert? Welchen maximalen Wert können Sie erreichen?\n",
    "- Legen Sie ein Sinussignal mit der halben maximalen Amplitude an den Quantisierer. Welche Signalleistung erwarten Sie, welches *SQNR* und welche *ENOB*?\n",
    "- Erklären Sie, welchen Einfluss die Anzahl der dargestellten Signalperioden $N\\_per$ im Code auf das dargestellte Spektrum hat. \n",
    "\n",
    "\n",
    "#### Orginalaufgabe\n",
    "- Welche **Einzelnutzleistungen** ${S_a}$ und ${S_b}$ haben die Frequenzkomponenten des Nutzsignals? \n",
    "- Wie groß ist die **Gesamtnutzleistung** $S$?\n",
    "- Welche **Rauschleistung** $N$ hat das Rauschsignal im Code? Wie groß ist das **Signal-to-Noise Ratio** $SNR$? Finden Sie ggf. heraus, wie der gaußverteilte Zufallsprozess `randn(N)` definiert ist.\n",
    "- Wie groß ist die **Rauschleistungsdichte** $N'(f)$?\n",
    "-  Welche **mittlere Rauschleistung** zeigt die DFT in der Simulation an? Überlegen Sie dazu, welcher Teil der Gesamtrauschleistung in jedes DFT-Bin fällt.\n",
    "- **Verbessern Sie den Code** so, dass die Spektren korrekt skaliert dargestellt werden.\n"
   ]
  },
  {
   "cell_type": "markdown",
   "metadata": {},
   "source": [
    "***\n",
    "### Copyright\n",
    "\n",
    "(c) 2016 - 2021 Prof. Dr. Christian Münker \n",
    "\n",
    "This jupyter notebook is part of a collection of notebooks on various topics of Digital Signal Processing. The latest version can be found at https://github.com/chipmuenk/dsp.\n",
    "\n",
    "This notebook is provided as [Open Educational Resource](https://en.wikipedia.org/wiki/Open_educational_resources). Feel free to use it for your own purposes. The text is licensed under [Creative Commons Attribution 4.0](https://creativecommons.org/licenses/by/4.0/), the code of the IPython examples under the [MIT license](https://opensource.org/licenses/MIT). Please attribute the work as follows: *Christian Münker, Digital Signal Processing - Vorlesungsunterlagen mit Simulationsbeispielen, 2021*."
   ]
  },
  {
   "cell_type": "code",
   "execution_count": null,
   "metadata": {},
   "outputs": [],
   "source": []
  }
 ],
 "metadata": {
  "kernelspec": {
   "display_name": "Python 3",
   "language": "python",
   "name": "python3"
  },
  "language_info": {
   "codemirror_mode": {
    "name": "ipython",
    "version": 3
   },
   "file_extension": ".py",
   "mimetype": "text/x-python",
   "name": "python",
   "nbconvert_exporter": "python",
   "pygments_lexer": "ipython3",
   "version": "3.11.1"
  }
 },
 "nbformat": 4,
 "nbformat_minor": 4
}
