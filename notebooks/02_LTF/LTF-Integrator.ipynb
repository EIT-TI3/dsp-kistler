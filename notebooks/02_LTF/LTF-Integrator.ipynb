{
 "cells": [
  {
   "cell_type": "markdown",
   "metadata": {},
   "source": [
    "<a href=\"_index.ipynb\">&larr; LTF-Index </a>&loz;\n",
    "<a href=\"../../README.md\"> &uarr; TOC &uarr; </a>\n",
    "<img src='../_img/icon.svg' align='right' width='10%'></img>\n",
    "\n",
    "# Zeitdiskreter Integrator # \n",
    "## P/N-Plan, Frequenzgang und Impulsantwort ##\n",
    "\n",
    "Dieses Notebook demonstriert interaktiv wie sich die Eigenschaften eines zeitdiskreten Integrators in Abhängigkeit von seiner Dämpfungskonstante $\\alpha$ ändern.\n",
    "\n",
    "![LTI-Damped_integrator.png](../_img/LTI-Damped_integrator.png)\n",
    "\n",
    "**Achtung:** Interaktive Widgets funktionieren unter JupyterLab nicht ohne weiteres; öffnen Sie das Notebook statt dessen im \"klassischen\" Jupyter Notebook Interface (`Help -> Launch Classic Notebook`)."
   ]
  },
  {
   "cell_type": "code",
   "execution_count": 5,
   "metadata": {},
   "outputs": [
    {
     "name": "stdout",
     "output_type": "stream",
     "text": [
      "ipywidgets: 8.1.0\n"
     ]
    }
   ],
   "source": [
    "import numpy as np\n",
    "import scipy.signal as sig\n",
    "\n",
    "%matplotlib inline \n",
    "import matplotlib.pyplot as plt\n",
    "import matplotlib.gridspec as gridspec\n",
    "gs = gridspec.GridSpec(2, 2)\n",
    "\n",
    "from ipywidgets import (interact,FloatSlider,IntSlider,__version__)\n",
    "\n",
    "import sys, os\n",
    "module_path = os.path.abspath(os.path.join('..'))\n",
    "if module_path not in sys.path:\n",
    "    sys.path.append(module_path)\n",
    "import dsp_fpga_lib as dsp\n",
    "plt.rcParams.update(dsp.mpl_rc) # define plot properties \n",
    "print(\"ipywidgets:\", __version__)"
   ]
  },
  {
   "cell_type": "code",
   "execution_count": 6,
   "metadata": {},
   "outputs": [],
   "source": [
    "def filterIntegrator(alpha=0):\n",
    "    b = [1, 0] #Zaehler: z\n",
    "    a = [1, -alpha] #Nenner: z+alpha\n",
    "\n",
    "    if(alpha == -1):\n",
    "        print('Division by Zero!')\n",
    "    else:\n",
    "        fig = plt.figure(figsize=(10,7)) # gridspec_kw=gs_specs\n",
    "        ax1 = fig.add_subplot(gs[0, 0]) # row 0, col 0\n",
    "        ax1.set_title('PN-Plan (zplane)')\n",
    "        dsp.zplane(b,a, plt_ax=ax1) #Plotte P/N Diagramm\n",
    "        ax1.set_xlabel('$Re$'); ax1.set_ylabel('$Im$')\n",
    "\n",
    "        #Frequenzgang H(f)\n",
    "        ax2 = fig.add_subplot(gs[0, 1]) # row 0, col 1\n",
    "        ax2.set_title('Frequenzgang')\n",
    "        f_S=1\n",
    "        [W,H] = sig.freqz(b,a,1024)\n",
    "        ax2.plot(W/(2*np.pi),np.abs(H),linewidth = 2)\n",
    "        ax2.set_xlabel(r'$F$  bzw. $\\Omega / 2 \\pi$') \n",
    "        ax2.set_ylabel(r'$|H(F)| \\; \\rightarrow$')\n",
    "\n",
    "        #Berechne 20 Werte der Impulsantwort:\n",
    "        ax3 = fig.add_subplot(gs[1, :]) # row 1, span all columns\n",
    "        ax3.set_title('Impulsantwort')\n",
    "        [himp,t] = dsp.impz(b,a,20,f_S)\n",
    "        ax3.stem(t, himp, linefmt='b-', markerfmt='ro', basefmt='k') # Impulsantwort\n",
    "        ax3.set_xlabel('$n$'); ax3.set_ylabel(r'$h[n]$')\n",
    "\n",
    "        #sicherstellen, dass Plots nicht überlappen\n",
    "        fig.tight_layout()"
   ]
  },
  {
   "cell_type": "markdown",
   "metadata": {},
   "source": [
    "Der Integrator hat die folgende Systemfunktion:\n",
    "$$H_i(z) = \\frac{z}{z - \\alpha} $$\n",
    "\n",
    "Ändern Sie mit dem Slider in der folgenden Zelle den Wert für alpha und führen Sie sie aus (Fallback für JupyterLab: Ändern Sie den Wert bei `value=...`):"
   ]
  },
  {
   "cell_type": "code",
   "execution_count": 7,
   "metadata": {},
   "outputs": [
    {
     "data": {
      "application/vnd.jupyter.widget-view+json": {
       "model_id": "cc61842e477f46509772e48033f0520e",
       "version_major": 2,
       "version_minor": 0
      },
      "text/plain": [
       "interactive(children=(FloatSlider(value=0.4, continuous_update=False, description='alpha', max=2.0, min=-2.0),…"
      ]
     },
     "metadata": {},
     "output_type": "display_data"
    }
   ],
   "source": [
    "#Slider erzeugen, der filterIntegrator bei jeder Änderung aufruft\n",
    "interact(filterIntegrator, alpha=FloatSlider(value=0.4,min=-2,max=2,step=0.1,continuous_update=False));"
   ]
  },
  {
   "cell_type": "markdown",
   "metadata": {},
   "source": [
    "### Debugging ###\n",
    "Wird das interaktive Widget nur als Text angezeigt (kein Slider), kann man folgendes versuchen:\n",
    "\n",
    "Nachinstalliern der Pakete `ipywidgets` und u.U. `widgetsnbextension`:\n",
    "\n",
    "`conda install ipywidgets`\n",
    "\n",
    "`conda install widgetsnbextension`\n",
    "\n",
    "Ggf. muss noch\n",
    "\n",
    "`jupyter nbextension enable --py widgetsnbextension`\n",
    "\n",
    "vom Terminal aus aktiviert werden (nur lokal bzw. für Betreuer, sudo Berechtigung erforderlich, siehe [Issue 541](https://github.com/jupyter-widgets/ipywidgets/issues/541)).\n"
   ]
  },
  {
   "cell_type": "markdown",
   "metadata": {},
   "source": [
    "### Aufgaben\n",
    "- Vollziehen Sie den Zusammmenhang von \"Poleposition\", Betragsgang und Impulsantwort nach. Implementieren Sie auch andere Systemfunktionen!"
   ]
  },
  {
   "cell_type": "markdown",
   "metadata": {},
   "source": [
    "***\n",
    "### Copyright\n",
    "\n",
    "(c) 2016 - 2021 Rebecca Janßen and Prof. Dr. Christian Münker\n",
    "\n",
    "This jupyter notebook is part of a collection of notebooks on various topics of Digital Signal Processing. The latest version can be found at https://github.com/chipmuenk/dsp.\n",
    "\n",
    "This notebook is provided as [Open Educational Resource](https://en.wikipedia.org/wiki/Open_educational_resources). Feel free to use it for your own purposes. The text is licensed under [Creative Commons Attribution 4.0](https://creativecommons.org/licenses/by/4.0/), the code of the IPython examples under the [MIT license](https://opensource.org/licenses/MIT). Please attribute the work as follows: *Christian Münker, Digital Signal Processing - Vorlesungsunterlagen mit Simulationsbeispielen, 2020*."
   ]
  },
  {
   "cell_type": "code",
   "execution_count": null,
   "metadata": {},
   "outputs": [],
   "source": []
  }
 ],
 "metadata": {
  "anaconda-cloud": {},
  "kernelspec": {
   "display_name": "Python 3 (ipykernel)",
   "language": "python",
   "name": "python3"
  },
  "language_info": {
   "codemirror_mode": {
    "name": "ipython",
    "version": 3
   },
   "file_extension": ".py",
   "mimetype": "text/x-python",
   "name": "python",
   "nbconvert_exporter": "python",
   "pygments_lexer": "ipython3",
   "version": "3.8.17"
  }
 },
 "nbformat": 4,
 "nbformat_minor": 4
}
