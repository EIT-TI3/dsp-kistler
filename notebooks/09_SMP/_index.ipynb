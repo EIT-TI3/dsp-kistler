{
 "cells": [
  {
   "cell_type": "markdown",
   "metadata": {},
   "source": [
    "<a href=\"../08_NOI/_index.ipynb\">&larr; NOI </a>&loz;\n",
    "<a href=\"../../README.md\"> &uarr; TOC &uarr; </a>&loz;\n",
    "<a href=\"../10_INP/_index.ipynb\"> INP &rarr;</a>\n",
    "<img src='../_img/icon.svg' align='right' width='10%'></img>\n",
    "# SMP - Sampling (Abtastung)\n",
    "\n",
    "In diesem Kapitel geht es um die Abtastung von Signalen, genauer, um die Reduktion der Abtastfrequenz um ein ganzzahliges Verhältnis, also z.B. von $f_{S1} = 100\\;$kHz auf $f_{S2} = 10\\;$kHz. Spektralanteile, die ursprünglich außerhalb des neuen Basisbands lagen, werden jetzt in das neue Basisband \"gefaltet\" (*Aliasing*).\n",
    "\n",
    "In diesem Kapitel wird außerdem die Analog-Digital-Wandlung behandelt, da die Umwandlung eines zeitkontinuierlichen in ein abgetastetes Signal ebenfalls wie eine Reduktion der Abtastrate betrachtet werden kann."
   ]
  },
  {
   "cell_type": "markdown",
   "metadata": {},
   "source": [
    "* [SMP-Sampled_Sine:](SMP-Sampled_Sine.ipynb) Abtastung eines Sinussignals [ToDo: Animation, mehr Text]\n",
    "* [SMP-Audio_decimation:](SMP-Audio_decimation.ipynb) Dezimation / Downsampling und Aliasing bei Audiosignalen"
   ]
  },
  {
   "cell_type": "markdown",
   "metadata": {},
   "source": [
    "***\n",
    "### Copyright\n",
    "\n",
    "(c) 2016 - 2021 Prof. Dr. Christian Münker \n",
    "\n",
    "This jupyter notebook is part of a collection of notebooks on various topics of Digital Signal Processing. The latest version can be found at https://github.com/chipmuenk/dsp.\n",
    "\n",
    "This notebook is provided as [Open Educational Resource](https://en.wikipedia.org/wiki/Open_educational_resources). Feel free to use it for your own purposes. The text is licensed under [Creative Commons Attribution 4.0](https://creativecommons.org/licenses/by/4.0/), the code of the IPython examples under the [MIT license](https://opensource.org/licenses/MIT). Please attribute the work as follows: *Christian Münker, Digital Signal Processing - Vorlesungsunterlagen mit Simulationsbeispielen, 2021*."
   ]
  },
  {
   "cell_type": "code",
   "execution_count": null,
   "metadata": {},
   "outputs": [],
   "source": []
  }
 ],
 "metadata": {
  "anaconda-cloud": {},
  "kernelspec": {
   "display_name": "Python 3",
   "language": "python",
   "name": "python3"
  },
  "language_info": {
   "codemirror_mode": {
    "name": "ipython",
    "version": 3
   },
   "file_extension": ".py",
   "mimetype": "text/x-python",
   "name": "python",
   "nbconvert_exporter": "python",
   "pygments_lexer": "ipython3",
   "version": "3.9.5"
  }
 },
 "nbformat": 4,
 "nbformat_minor": 4
}
